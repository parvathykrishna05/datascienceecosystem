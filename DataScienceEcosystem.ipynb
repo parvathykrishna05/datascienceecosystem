{
  "metadata": {
    "language_info": {
      "codemirror_mode": {
        "name": "python",
        "version": 3
      },
      "file_extension": ".py",
      "mimetype": "text/x-python",
      "name": "python",
      "nbconvert_exporter": "python",
      "pygments_lexer": "ipython3",
      "version": "3.8"
    },
    "kernelspec": {
      "name": "python",
      "display_name": "Pyolite",
      "language": "python"
    },
    "toc-autonumbering": false,
    "toc-showtags": false,
    "toc-showmarkdowntxt": false,
    "toc-showcode": true
  },
  "nbformat_minor": 4,
  "nbformat": 4,
  "cells": [
    {
      "cell_type": "markdown",
      "source": "Data Science Tools and Ecosystem",
      "metadata": {}
    },
    {
      "cell_type": "markdown",
      "source": "In this notebook, Data Science Tools and Ecosystems are summarized.",
      "metadata": {}
    },
    {
      "cell_type": "markdown",
      "source": "Objectives:\n.list popular data science laguages.\n.list popular data science libraries.\n.list data science tools",
      "metadata": {}
    },
    {
      "cell_type": "markdown",
      "source": "Some of the popular laguages Data Scientists use are:\n1.Python\n2.R\n3.SQL",
      "metadata": {}
    },
    {
      "cell_type": "markdown",
      "source": "Some of the commonly used libraries used by Data Scientists include:\n1.Pandas\n2.NumPy\n3.Matplotlib",
      "metadata": {}
    },
    {
      "cell_type": "markdown",
      "source": "Data Science Tools:",
      "metadata": {}
    },
    {
      "cell_type": "markdown",
      "source": "Jupyter notebook",
      "metadata": {}
    },
    {
      "cell_type": "markdown",
      "source": "TensorFlow",
      "metadata": {}
    },
    {
      "cell_type": "markdown",
      "source": "Apache Spark",
      "metadata": {}
    },
    {
      "cell_type": "markdown",
      "source": "Below are a few examples of evaluating arithmetic expressions in Python.",
      "metadata": {}
    },
    {
      "cell_type": "code",
      "source": "#this is a simple arithmetic expression to multiply then add integers.",
      "metadata": {},
      "execution_count": null,
      "outputs": []
    },
    {
      "cell_type": "code",
      "source": "(7*4)+5\n",
      "metadata": {
        "trusted": true
      },
      "execution_count": 1,
      "outputs": [
        {
          "execution_count": 1,
          "output_type": "execute_result",
          "data": {
            "text/plain": "33"
          },
          "metadata": {}
        }
      ]
    },
    {
      "cell_type": "code",
      "source": "#This will convert 549 minutes to hours by dividing by 60.",
      "metadata": {},
      "execution_count": null,
      "outputs": []
    },
    {
      "cell_type": "code",
      "source": "549/60",
      "metadata": {
        "trusted": true
      },
      "execution_count": 2,
      "outputs": [
        {
          "execution_count": 2,
          "output_type": "execute_result",
          "data": {
            "text/plain": "9.15"
          },
          "metadata": {}
        }
      ]
    },
    {
      "cell_type": "markdown",
      "source": "Author:\nParvathy Krishna M",
      "metadata": {}
    }
  ]
}